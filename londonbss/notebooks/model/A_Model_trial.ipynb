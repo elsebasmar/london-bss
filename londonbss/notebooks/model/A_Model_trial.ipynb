{
 "cells": [
  {
   "cell_type": "code",
   "execution_count": 1,
   "metadata": {
    "id": "H_wrE9PMpYyO"
   },
   "outputs": [],
   "source": [
    "import pandas as pd\n",
    "import numpy as np\n",
    "from sklearn.preprocessing import OneHotEncoder"
   ]
  },
  {
   "cell_type": "code",
   "execution_count": 2,
   "metadata": {
    "colab": {
     "base_uri": "https://localhost:8080/"
    },
    "id": "_wacO-Z1ocUV",
    "outputId": "58f4328c-98c6-414e-fc87-0196d778abb9"
   },
   "outputs": [
    {
     "ename": "ModuleNotFoundError",
     "evalue": "No module named 'google.colab'",
     "output_type": "error",
     "traceback": [
      "\u001b[0;31m---------------------------------------------------------------------------\u001b[0m",
      "\u001b[0;31mModuleNotFoundError\u001b[0m                       Traceback (most recent call last)",
      "Cell \u001b[0;32mIn[2], line 1\u001b[0m\n\u001b[0;32m----> 1\u001b[0m \u001b[38;5;28;01mfrom\u001b[39;00m \u001b[38;5;21;01mgoogle\u001b[39;00m\u001b[38;5;21;01m.\u001b[39;00m\u001b[38;5;21;01mcolab\u001b[39;00m \u001b[38;5;28;01mimport\u001b[39;00m drive\n\u001b[1;32m      2\u001b[0m drive\u001b[38;5;241m.\u001b[39mmount(\u001b[38;5;124m'\u001b[39m\u001b[38;5;124m/content/drive\u001b[39m\u001b[38;5;124m'\u001b[39m)\n",
      "\u001b[0;31mModuleNotFoundError\u001b[0m: No module named 'google.colab'"
     ]
    }
   ],
   "source": [
    "from google.colab import drive\n",
    "drive.mount('/content/drive')"
   ]
  },
  {
   "cell_type": "code",
   "execution_count": null,
   "metadata": {
    "id": "k-rD1sojpJGL"
   },
   "outputs": [],
   "source": [
    "data_path = '/content/drive/My Drive/Colab Notebooks/Tensor_decom_sample/data/'"
   ]
  },
  {
   "cell_type": "code",
   "execution_count": null,
   "metadata": {
    "id": "uHYmp7ZOpRKU"
   },
   "outputs": [],
   "source": [
    "data=pd.read_csv(data_path + 'time_factor.csv')"
   ]
  },
  {
   "cell_type": "code",
   "execution_count": null,
   "metadata": {
    "id": "HYmBz_ktpbnU"
   },
   "outputs": [],
   "source": [
    "data.set_index(data.columns[len(data.columns)-1], inplace=True)"
   ]
  },
  {
   "cell_type": "code",
   "execution_count": null,
   "metadata": {
    "colab": {
     "base_uri": "https://localhost:8080/"
    },
    "id": "6qWRrUdzrOX_",
    "outputId": "63f7ccf8-4e8a-4966-ecfb-e0dae900ebd4"
   },
   "outputs": [],
   "source": [
    "data.shape"
   ]
  },
  {
   "cell_type": "code",
   "execution_count": null,
   "metadata": {
    "colab": {
     "base_uri": "https://localhost:8080/",
     "height": 477
    },
    "id": "_qfPqnmMqd_S",
    "outputId": "21abb986-851a-4da7-f2e1-92d004374ff3"
   },
   "outputs": [],
   "source": [
    "data.head()"
   ]
  },
  {
   "cell_type": "code",
   "execution_count": null,
   "metadata": {
    "id": "n_qwAnZMpcqt"
   },
   "outputs": [],
   "source": [
    "weather_data = pd.read_csv(data_path + 'we_ev_el.csv')"
   ]
  },
  {
   "cell_type": "code",
   "execution_count": null,
   "metadata": {
    "colab": {
     "base_uri": "https://localhost:8080/"
    },
    "id": "1VetMsf8rRH2",
    "outputId": "767c8e8b-3a1c-45c0-a1dc-3eb62e28b5a2"
   },
   "outputs": [],
   "source": [
    "weather_data.shape"
   ]
  },
  {
   "cell_type": "code",
   "execution_count": null,
   "metadata": {
    "colab": {
     "base_uri": "https://localhost:8080/",
     "height": 448
    },
    "id": "zoz_JhNyqXFd",
    "outputId": "87ee288b-d58a-4557-ebb5-942ca01875c2"
   },
   "outputs": [],
   "source": [
    "weather_data.set_index('timestamp', inplace=True)\n",
    "weather_data.head()"
   ]
  },
  {
   "cell_type": "code",
   "execution_count": null,
   "metadata": {
    "id": "GI6FRw5bqrxH"
   },
   "outputs": [],
   "source": [
    "preprocessed_data = pd.concat([data, weather_data.reindex(data.index)], axis=1)"
   ]
  },
  {
   "cell_type": "code",
   "execution_count": null,
   "metadata": {
    "colab": {
     "base_uri": "https://localhost:8080/",
     "height": 839
    },
    "id": "OVu3zU_AqYIf",
    "outputId": "c6799830-9790-4601-9f31-2ab7ae87916c"
   },
   "outputs": [],
   "source": [
    "preprocessed_data"
   ]
  },
  {
   "cell_type": "code",
   "execution_count": null,
   "metadata": {
    "id": "nQic-o6Qszgl"
   },
   "outputs": [],
   "source": [
    "import pandas as pd"
   ]
  },
  {
   "cell_type": "code",
   "execution_count": null,
   "metadata": {
    "colab": {
     "base_uri": "https://localhost:8080/"
    },
    "id": "nl2hj42DrjOx",
    "outputId": "a71f2337-5663-48b0-94e3-0cc69a0ecc09"
   },
   "outputs": [],
   "source": [
    "preprocessed_data.columns.tolist()"
   ]
  },
  {
   "cell_type": "code",
   "execution_count": null,
   "metadata": {
    "id": "-s1YK58hrr50"
   },
   "outputs": [],
   "source": [
    "data_ready = preprocessed_data.drop(columns=['precipitation','date','sunrise_datetime','sunset_datetime','event_start_date','event_end_date','event_start_date','event_location'])"
   ]
  },
  {
   "cell_type": "code",
   "execution_count": null,
   "metadata": {
    "id": "taJit2k-toyR"
   },
   "outputs": [],
   "source": [
    "data_ready.rename(columns={\"encoding\": \"daytime\"}, inplace=True)"
   ]
  },
  {
   "cell_type": "code",
   "execution_count": null,
   "metadata": {
    "colab": {
     "base_uri": "https://localhost:8080/",
     "height": 839
    },
    "id": "v3HGEAFvtqYR",
    "outputId": "63a1b011-3b56-4ed8-e4ad-94fec0208fb9"
   },
   "outputs": [],
   "source": [
    "data_ready"
   ]
  },
  {
   "cell_type": "code",
   "execution_count": null,
   "metadata": {
    "id": "wfFBMwcAuCpZ"
   },
   "outputs": [],
   "source": [
    "# South East limits\n",
    "se_limit_lat = 51.523811 # everthing lower than this value is south east\n",
    "se_limit_lon = -0.101342 # everything greater than this value is south east\n",
    "\n",
    "# East limits\n",
    "e_limit_lat = 51.523811 # everything greater than this value is east\n",
    "e_limit_lon = -0.022306 # everything greater than this is east\n",
    "\n",
    "# South West limits\n",
    "sw_limit_lat = 51.501631 # everthing lower than this value is south east\n",
    "sw_limit_lon = -0.101342 # everything lower than this value is south east\n",
    "\n",
    "# West limits\n",
    "w_limit_lat = 51.501072  # everthing greater than this value is south east\n",
    "w_limit_lon = -0.182406  # everthing lower than this value is south east\n",
    "\n",
    "# Central limits\n",
    "c_toplimit_lat = 51.501072 # everthing greater than this value is central\n",
    "c_lowlimit_lat = 51.523811 # everything lower than this value is central\n",
    "\n",
    "c_toplimit_lon = -0.101342 # everything lower than this value is central\n",
    "c_lowlimit_lon = -0.182406 # everthing greater than this value is central\n",
    "\n",
    "# North limits\n",
    "n_toplimit_lon = -0.022306 # everything lower than this value is central\n",
    "n_lowlimit_lon = -0.182406 # everthing greater than this value is central\n",
    "\n",
    "n_lowlimit_lat = 51.523811 # everthing greater than this value is central"
   ]
  },
  {
   "cell_type": "code",
   "execution_count": null,
   "metadata": {
    "id": "5jQ7Qi3XuRvF"
   },
   "outputs": [],
   "source": [
    "loc = []"
   ]
  },
  {
   "cell_type": "code",
   "execution_count": null,
   "metadata": {
    "id": "lOi3zLpmuUT3"
   },
   "outputs": [],
   "source": [
    "for hour in data_ready.index:\n",
    "    if data_ready['event_latitude'][hour] > c_toplimit_lat and data_ready['event_latitude'][hour]< c_lowlimit_lat and data_ready['event_longitude'][hour]< c_toplimit_lon and data_ready['event_longitude'][hour]>c_lowlimit_lon:\n",
    "        loc.append('Central') # Central\n",
    "    elif data_ready['event_longitude'][hour] < n_toplimit_lon and data_ready['event_longitude'][hour] > n_lowlimit_lon and data_ready['event_latitude'][hour] > n_lowlimit_lat:\n",
    "        loc.append('North') # North\n",
    "    elif data_ready['event_longitude'][hour] < w_limit_lon and data_ready['event_latitude'][hour] > w_limit_lat:\n",
    "        loc.append('West') # West\n",
    "    elif data_ready['event_longitude'][hour] < sw_limit_lon and data_ready['event_latitude'][hour] < sw_limit_lat:\n",
    "        loc.append('South_West')  # South_West\n",
    "    elif data_ready['event_longitude'][hour] > e_limit_lon and data_ready['event_latitude'][hour] > e_limit_lat:\n",
    "        loc.append('East') # East\n",
    "    elif data_ready['event_longitude'][hour] > se_limit_lon and data_ready['event_latitude'][hour] < se_limit_lat:\n",
    "        loc.append('South_East') # South East\n",
    "    else:\n",
    "        loc.append('Other')"
   ]
  },
  {
   "cell_type": "code",
   "execution_count": null,
   "metadata": {
    "id": "ymgbZ2gJvS7S"
   },
   "outputs": [],
   "source": [
    "data_ready['london_zone'] = loc"
   ]
  },
  {
   "cell_type": "code",
   "execution_count": null,
   "metadata": {
    "colab": {
     "base_uri": "https://localhost:8080/",
     "height": 839
    },
    "id": "3raKv5CAvTil",
    "outputId": "9ccd672b-f101-4890-ad8b-9c5ff501ed98"
   },
   "outputs": [],
   "source": [
    "data_ready"
   ]
  },
  {
   "cell_type": "code",
   "execution_count": null,
   "metadata": {
    "id": "rWLIPP2tvkiw"
   },
   "outputs": [],
   "source": [
    "data_ready.event_title.replace(np.nan,'No_Event', inplace=True)"
   ]
  },
  {
   "cell_type": "code",
   "execution_count": null,
   "metadata": {
    "colab": {
     "base_uri": "https://localhost:8080/",
     "height": 839
    },
    "id": "YZHW8aStytSL",
    "outputId": "9870c7b3-f15e-4de9-eeb8-08645cb19608"
   },
   "outputs": [],
   "source": [
    "data_ready"
   ]
  },
  {
   "cell_type": "code",
   "execution_count": null,
   "metadata": {
    "id": "DshGLNKkz1qx"
   },
   "outputs": [],
   "source": [
    "data_ready.drop(columns=['event_latitude','event_longitude'], inplace=True)"
   ]
  },
  {
   "cell_type": "code",
   "execution_count": null,
   "metadata": {
    "colab": {
     "base_uri": "https://localhost:8080/",
     "height": 839
    },
    "id": "hyiNbFFFz_4w",
    "outputId": "b6bc4da2-771c-4cea-d2de-7e6d47e1b086"
   },
   "outputs": [],
   "source": [
    "data_ready"
   ]
  },
  {
   "cell_type": "code",
   "execution_count": null,
   "metadata": {
    "colab": {
     "base_uri": "https://localhost:8080/",
     "height": 447
    },
    "id": "lb17o_y7yuaC",
    "outputId": "2a2b18b9-cff5-4eb5-9fba-61a68e93b32e"
   },
   "outputs": [],
   "source": [
    "data_ready[['snowfall']].boxplot()"
   ]
  },
  {
   "cell_type": "code",
   "execution_count": null,
   "metadata": {
    "id": "UICRyc2XzAEp"
   },
   "outputs": [],
   "source": [
    "# Instantiate the OneHotEncoder\n",
    "ohe = OneHotEncoder(sparse = False)"
   ]
  },
  {
   "cell_type": "code",
   "execution_count": null,
   "metadata": {
    "colab": {
     "base_uri": "https://localhost:8080/",
     "height": 129
    },
    "id": "g5FV-JFizZCH",
    "outputId": "8207a431-65b7-48ee-a518-d470d89f0e33"
   },
   "outputs": [],
   "source": [
    "# Fit encoder\n",
    "ohe.fit(data_ready[['daytime','event_title','london_zone']])"
   ]
  },
  {
   "cell_type": "code",
   "execution_count": null,
   "metadata": {
    "colab": {
     "base_uri": "https://localhost:8080/"
    },
    "id": "wwL6obOvzddC",
    "outputId": "98173231-d7db-448a-8406-38f4709cffd5"
   },
   "outputs": [],
   "source": [
    "# Transform the current \"Street\" column\n",
    "ohe.transform(data_ready[['daytime','event_title','london_zone']]).shape"
   ]
  },
  {
   "cell_type": "code",
   "execution_count": null,
   "metadata": {
    "id": "a0sYMyhQPOqS"
   },
   "outputs": [],
   "source": [
    "data_ready[ohe.get_feature_names_out()] = 0"
   ]
  },
  {
   "cell_type": "code",
   "execution_count": null,
   "metadata": {
    "id": "MuZ4eqb90urH"
   },
   "outputs": [],
   "source": [
    "data_ready[ohe.get_feature_names_out()]=ohe.transform(data_ready[['daytime','event_title','london_zone']])"
   ]
  },
  {
   "cell_type": "code",
   "execution_count": null,
   "metadata": {
    "colab": {
     "base_uri": "https://localhost:8080/",
     "height": 839
    },
    "id": "M68FXHsc1lkh",
    "outputId": "1886fbdd-5c8c-4198-8e6a-5cfe97a582ef"
   },
   "outputs": [],
   "source": [
    "data_ready"
   ]
  },
  {
   "cell_type": "code",
   "execution_count": null,
   "metadata": {
    "id": "xd9cT3772DjT"
   },
   "outputs": [],
   "source": [
    "data_preproc = data_ready.drop(columns=['daytime','event_title','london_zone','daytime_nighttime',data_ready.columns[0]])"
   ]
  },
  {
   "cell_type": "code",
   "execution_count": null,
   "metadata": {
    "colab": {
     "base_uri": "https://localhost:8080/",
     "height": 839
    },
    "id": "3EPWEZup2oTv",
    "outputId": "14468ad9-7641-4938-83e1-da63cfd2575a"
   },
   "outputs": [],
   "source": [
    "data_preproc"
   ]
  },
  {
   "cell_type": "code",
   "execution_count": null,
   "metadata": {
    "colab": {
     "base_uri": "https://localhost:8080/"
    },
    "id": "n6PmCkJ72pTz",
    "outputId": "3d9cd5af-ff0c-4a18-fde2-2ea0fcf9920a"
   },
   "outputs": [],
   "source": [
    "data_preproc.info(verbose=True)"
   ]
  },
  {
   "cell_type": "code",
   "execution_count": null,
   "metadata": {
    "colab": {
     "base_uri": "https://localhost:8080/"
    },
    "id": "J5SNL9W132Aq",
    "outputId": "6dd878e1-dfea-4f53-ee4f-565a7890d7f5"
   },
   "outputs": [],
   "source": [
    "data_preproc.columns[:149]"
   ]
  },
  {
   "cell_type": "code",
   "execution_count": null,
   "metadata": {
    "id": "jxPs0Zlz4D7j"
   },
   "outputs": [],
   "source": [
    "import seaborn as sns"
   ]
  },
  {
   "cell_type": "code",
   "execution_count": null,
   "metadata": {
    "colab": {
     "base_uri": "https://localhost:8080/",
     "height": 839
    },
    "id": "42fSVSgF4F_p",
    "outputId": "d5a78908-8c61-4774-c646-88af9f49c4a1"
   },
   "outputs": [],
   "source": [
    "#Partial correlation\n",
    "part_data =  data_preproc.drop(columns=data_preproc.columns[:150])\n",
    "part_data"
   ]
  },
  {
   "cell_type": "code",
   "execution_count": null,
   "metadata": {
    "id": "3Asedxbv7QE-"
   },
   "outputs": [],
   "source": [
    "data_preproc['elisabeth_line'] = data_preproc['elisabeth_line']*1"
   ]
  },
  {
   "cell_type": "code",
   "execution_count": null,
   "metadata": {
    "colab": {
     "base_uri": "https://localhost:8080/",
     "height": 839
    },
    "id": "83HdE4zV7gjS",
    "outputId": "9f1dcb8f-d140-4b13-9627-f7619a8c1bf6"
   },
   "outputs": [],
   "source": [
    "data_preproc"
   ]
  },
  {
   "cell_type": "code",
   "execution_count": null,
   "metadata": {
    "colab": {
     "base_uri": "https://localhost:8080/",
     "height": 636
    },
    "id": "pWv71m2t25K1",
    "outputId": "151dd105-226f-4dd5-9bf3-1cf4af10a21d"
   },
   "outputs": [],
   "source": [
    "# Heatmap of pairwise correlations\n",
    "correlation_matrix = part_data.corr()\n",
    "column_names = correlation_matrix.columns\n",
    "sns.heatmap(correlation_matrix, xticklabels=column_names, yticklabels=column_names,cmap= \"bwr\");"
   ]
  },
  {
   "cell_type": "code",
   "execution_count": null,
   "metadata": {
    "colab": {
     "base_uri": "https://localhost:8080/"
    },
    "id": "1kauSNB74XUB",
    "outputId": "7923da5b-7a7b-48f9-c049-a4e30627e39b"
   },
   "outputs": [],
   "source": [
    "y_columns = data_preproc.columns[:150]\n",
    "y_columns"
   ]
  },
  {
   "cell_type": "code",
   "execution_count": null,
   "metadata": {
    "colab": {
     "base_uri": "https://localhost:8080/"
    },
    "id": "7q4UrlycKgrp",
    "outputId": "e2ac0d0e-3c50-4d4a-edcb-730a42efbecd"
   },
   "outputs": [],
   "source": [
    "X_columns = data_preproc.columns[150:]\n",
    "X_columns"
   ]
  },
  {
   "cell_type": "code",
   "execution_count": null,
   "metadata": {
    "id": "UOgVAB8RK3bf"
   },
   "outputs": [],
   "source": [
    "y = data_preproc[y_columns]"
   ]
  },
  {
   "cell_type": "code",
   "execution_count": null,
   "metadata": {
    "colab": {
     "base_uri": "https://localhost:8080/",
     "height": 822
    },
    "id": "mQznF4v4RJ3L",
    "outputId": "da12e2eb-38fd-4ee3-8e96-c59b461cae3e"
   },
   "outputs": [],
   "source": [
    "y"
   ]
  },
  {
   "cell_type": "code",
   "execution_count": null,
   "metadata": {
    "colab": {
     "base_uri": "https://localhost:8080/",
     "height": 839
    },
    "id": "FSaPWxyCRRqJ",
    "outputId": "e16334ab-d88e-4ea5-84ee-41f9eaaf71b0"
   },
   "outputs": [],
   "source": [
    "X = data_preproc[X_columns]\n",
    "X"
   ]
  },
  {
   "cell_type": "code",
   "execution_count": null,
   "metadata": {
    "colab": {
     "base_uri": "https://localhost:8080/"
    },
    "id": "oiUDDb2HSPw2",
    "outputId": "d861bd31-edc6-4825-e4f8-a18c1b65f328"
   },
   "outputs": [],
   "source": [
    "X.shape"
   ]
  },
  {
   "cell_type": "code",
   "execution_count": null,
   "metadata": {
    "colab": {
     "base_uri": "https://localhost:8080/"
    },
    "id": "OVT-cL-qSPXy",
    "outputId": "29817bb7-f247-409c-feeb-0ce8ab0f5b11"
   },
   "outputs": [],
   "source": [
    "y.shape"
   ]
  },
  {
   "cell_type": "code",
   "execution_count": null,
   "metadata": {
    "id": "YMruMg9HV3D8"
   },
   "outputs": [],
   "source": [
    "from sklearn.model_selection import train_test_split\n",
    "\n",
    "X_train, X_test, y_train, y_test = train_test_split(X, y, test_size=0.20)"
   ]
  },
  {
   "cell_type": "code",
   "execution_count": null,
   "metadata": {
    "colab": {
     "base_uri": "https://localhost:8080/"
    },
    "id": "OXVav0s2c3Cr",
    "outputId": "3959dcf6-5528-4e66-fef9-8ffd6d96719b"
   },
   "outputs": [],
   "source": [
    "X_train.shape"
   ]
  },
  {
   "cell_type": "code",
   "execution_count": null,
   "metadata": {
    "id": "jriJg7HqdkHX"
   },
   "outputs": [],
   "source": [
    "X_train =  X_train.to_numpy()\n",
    "X_test = X_test.to_numpy()\n",
    "y_train = y_train.to_numpy()\n",
    "y_test =  y_test.to_numpy()"
   ]
  },
  {
   "cell_type": "code",
   "execution_count": null,
   "metadata": {
    "colab": {
     "base_uri": "https://localhost:8080/"
    },
    "id": "biOv-HLXdr-v",
    "outputId": "b64c9bb6-2825-4bf6-9064-3d3415d77e10"
   },
   "outputs": [],
   "source": [
    "X_train.shape , y_train.shape"
   ]
  },
  {
   "cell_type": "code",
   "execution_count": null,
   "metadata": {
    "id": "XKx-_HBhdDxE"
   },
   "outputs": [],
   "source": [
    "X_train = X_train.reshape((X_train.shape[0], 1, X_train.shape[1]))\n",
    "X_test = X_test.reshape((X_test.shape[0], 1, X_test.shape[1]))"
   ]
  },
  {
   "cell_type": "code",
   "execution_count": null,
   "metadata": {
    "colab": {
     "base_uri": "https://localhost:8080/"
    },
    "id": "VkC26wz4dvxr",
    "outputId": "bf957bb5-323c-44f8-c5b2-5bf7be8f5b50"
   },
   "outputs": [],
   "source": [
    "X_train.shape , X_test.shape"
   ]
  },
  {
   "cell_type": "code",
   "execution_count": null,
   "metadata": {
    "id": "gD-3kHdgRzHU"
   },
   "outputs": [],
   "source": [
    "# 0- Imports\n",
    "from tensorflow.keras.optimizers import Adam\n",
    "from tensorflow.keras import layers, models\n",
    "from tensorflow.keras.layers import Normalization\n",
    "from tensorflow.keras.models import Sequential\n",
    "from tensorflow.keras.layers import Dense, SimpleRNN, Flatten"
   ]
  },
  {
   "cell_type": "code",
   "execution_count": null,
   "metadata": {
    "id": "NREHKY1CR4Ob"
   },
   "outputs": [],
   "source": [
    "# 1- RNN Architecture\n",
    "model = Sequential()\n",
    "model.add(layers.LSTM(units=500, activation='tanh',input_shape=(X_train.shape[1],X_train.shape[2])))\n",
    "model.add(layers.Dense(200))\n",
    "model.add(layers.Dense(150, activation=\"linear\"))"
   ]
  },
  {
   "cell_type": "code",
   "execution_count": null,
   "metadata": {
    "id": "0c3_BgucSBek"
   },
   "outputs": [],
   "source": [
    "# 2- Compilation\n",
    "model.compile(loss='mae',\n",
    "              optimizer=Adam(learning_rate=0.01),metrics=['accuracy']) # very high lr so we can converge with such a small dataset"
   ]
  },
  {
   "cell_type": "code",
   "execution_count": null,
   "metadata": {
    "colab": {
     "base_uri": "https://localhost:8080/"
    },
    "id": "HPLarNTKSDuq",
    "outputId": "368aea30-40c9-4a63-fe50-19680e54928b"
   },
   "outputs": [],
   "source": [
    "from tensorflow.keras.callbacks import EarlyStopping\n",
    "\n",
    "es = EarlyStopping(patience=10, restore_best_weights=True)\n",
    "\n",
    "# 3- Fit\n",
    "history = model.fit(X_train, y_train, epochs=50, verbose=1, validation_split=0.2,callbacks=[es])"
   ]
  },
  {
   "cell_type": "code",
   "execution_count": null,
   "metadata": {
    "colab": {
     "base_uri": "https://localhost:8080/"
    },
    "id": "DmU1EUpuSJNR",
    "outputId": "a63f4da4-3596-4571-88d8-08a0022e3f85"
   },
   "outputs": [],
   "source": [
    "# 4- Predict\n",
    "model.evaluate(X_test,y_test)"
   ]
  },
  {
   "cell_type": "code",
   "execution_count": null,
   "metadata": {
    "id": "vIou1F0jgsIp"
   },
   "outputs": [],
   "source": [
    "from matplotlib import pyplot"
   ]
  },
  {
   "cell_type": "code",
   "execution_count": null,
   "metadata": {
    "colab": {
     "base_uri": "https://localhost:8080/",
     "height": 430
    },
    "id": "NQGOPTfNfusa",
    "outputId": "5438f5ab-53e8-4e5c-b99a-a47ff2140361"
   },
   "outputs": [],
   "source": [
    "# plot history\n",
    "pyplot.plot(history.history['loss'][1:], label='train')\n",
    "pyplot.plot(history.history['val_loss'][1:], label='test')\n",
    "pyplot.legend()\n",
    "pyplot.show()"
   ]
  },
  {
   "cell_type": "code",
   "execution_count": null,
   "metadata": {
    "colab": {
     "base_uri": "https://localhost:8080/"
    },
    "id": "mlqmt0K9gqS3",
    "outputId": "bbf72a67-f01f-49ff-b355-41cebb6b6691"
   },
   "outputs": [],
   "source": [
    "# 4- Predict\n",
    "y_hat = model.predict(X_test)"
   ]
  },
  {
   "cell_type": "code",
   "execution_count": null,
   "metadata": {
    "colab": {
     "base_uri": "https://localhost:8080/"
    },
    "id": "XamWqC26itWA",
    "outputId": "6fca285e-df60-471c-a471-41d1340c418a"
   },
   "outputs": [],
   "source": [
    "y_hat.shape"
   ]
  },
  {
   "cell_type": "code",
   "execution_count": null,
   "metadata": {
    "colab": {
     "base_uri": "https://localhost:8080/",
     "height": 839
    },
    "id": "t75JY3kIiu_B",
    "outputId": "8feaa5e1-ef35-45fe-ea84-f8dc7792a76b"
   },
   "outputs": [],
   "source": [
    "data_preproc"
   ]
  },
  {
   "cell_type": "code",
   "execution_count": null,
   "metadata": {
    "id": "KCpYy8QkonGt"
   },
   "outputs": [],
   "source": []
  }
 ],
 "metadata": {
  "accelerator": "TPU",
  "colab": {
   "provenance": []
  },
  "kernelspec": {
   "display_name": "Python 3 (ipykernel)",
   "language": "python",
   "name": "python3"
  },
  "language_info": {
   "codemirror_mode": {
    "name": "ipython",
    "version": 3
   },
   "file_extension": ".py",
   "mimetype": "text/x-python",
   "name": "python",
   "nbconvert_exporter": "python",
   "pygments_lexer": "ipython3",
   "version": "3.10.6"
  }
 },
 "nbformat": 4,
 "nbformat_minor": 4
}
