{
 "cells": [
  {
   "cell_type": "code",
   "execution_count": 1,
   "metadata": {
    "colab": {
     "base_uri": "https://localhost:8080/"
    },
    "id": "chnFhoympfXU",
    "outputId": "910387c2-6363-493d-ab30-7290e8483e2e"
   },
   "outputs": [
    {
     "name": "stderr",
     "output_type": "stream",
     "text": [
      "\n",
      "KeyboardInterrupt\n",
      "\n"
     ]
    }
   ],
   "source": [
    "import pandas as pd\n",
    "import numpy as np\n",
    "from bs4 import BeautifulSoup\n",
    "import requests\n",
    "import io\n",
    "from datetime import datetime\n",
    "import matplotlib.pyplot as plt\n",
    "import seaborn as sns\n",
    "from google.colab import drive\n",
    "drive.mount('/content/drive')"
   ]
  },
  {
   "cell_type": "code",
   "execution_count": null,
   "metadata": {
    "id": "R4jGMWZMqYtg"
   },
   "outputs": [],
   "source": [
    "data_path = '/content/drive/My Drive/Colab Notebooks/Tensor_decom_sample/data/'"
   ]
  },
  {
   "cell_type": "code",
   "execution_count": null,
   "metadata": {
    "id": "1R5xMSJ3qBON"
   },
   "outputs": [],
   "source": [
    "data=pd.read_csv(data_path + 'tripcsvbame.csv')"
   ]
  },
  {
   "cell_type": "code",
   "execution_count": null,
   "metadata": {
    "colab": {
     "base_uri": "https://localhost:8080/",
     "height": 423
    },
    "id": "l2cdyZmbo3T_",
    "outputId": "ac74a1ab-a298-44b2-a774-fc4891b625ce"
   },
   "outputs": [],
   "source": [
    "data"
   ]
  },
  {
   "cell_type": "code",
   "execution_count": null,
   "metadata": {
    "colab": {
     "base_uri": "https://localhost:8080/"
    },
    "id": "qPLWDNHLpfXV",
    "outputId": "71ac1e06-ed8e-446d-a8f8-80ec03730ca2"
   },
   "outputs": [],
   "source": [
    "data['usage-stats/'][301:306]"
   ]
  },
  {
   "cell_type": "code",
   "execution_count": null,
   "metadata": {
    "colab": {
     "base_uri": "https://localhost:8080/"
    },
    "id": "owqqKgmhpfXW",
    "outputId": "1a623a54-fc38-4060-c975-bc9a53b548c0"
   },
   "outputs": [],
   "source": [
    "data_2023=data['usage-stats/'][301:306]\n",
    "frames=[]\n",
    "for x in data_2023:\n",
    "    frames.append(pd.read_csv(data_path + x[1:]))\n",
    "\n",
    "result = pd.concat(frames)\n",
    "result.columns"
   ]
  },
  {
   "cell_type": "code",
   "execution_count": null,
   "metadata": {
    "id": "AcGbPeh7q7BI"
   },
   "outputs": [],
   "source": [
    "dict_columns = {\n",
    "    \"Number\": \"Rental Id\",\n",
    "    \"Total duration (ms)\": \"Duration\",\n",
    "    \"Bike number\" : \"Bike Id\",\n",
    "    \"Start station\" : 'StartStation Name',\n",
    "    'End station': 'EndStation Name',\n",
    "    'End Date': 'End date',\n",
    "    'Start Date': 'Start date'\n",
    "}"
   ]
  },
  {
   "cell_type": "code",
   "execution_count": null,
   "metadata": {
    "colab": {
     "base_uri": "https://localhost:8080/",
     "height": 805
    },
    "id": "BiS5vXMfsSoe",
    "outputId": "9b16e58d-852b-48c9-accc-026bfef1578e"
   },
   "outputs": [],
   "source": [
    "result_general = result.rename(columns=dict_columns)\n",
    "result_general['Duration'] = result_general['Duration']/1000\n",
    "result_general"
   ]
  },
  {
   "cell_type": "code",
   "execution_count": null,
   "metadata": {
    "colab": {
     "base_uri": "https://localhost:8080/",
     "height": 805
    },
    "id": "beHB_M4QpfXW",
    "outputId": "966fa6e9-8355-4e49-ebb2-d5b64b791c58"
   },
   "outputs": [],
   "source": [
    "date_format = '%d/%m/%Y %H:%M:%S'\n",
    "result_general['End date']=pd.to_datetime(result_general['End date'])\n",
    "result_general['Start date']=pd.to_datetime(result_general['Start date'])\n",
    "result_general"
   ]
  },
  {
   "cell_type": "code",
   "execution_count": null,
   "metadata": {
    "id": "uov5lld3pfXW"
   },
   "outputs": [],
   "source": [
    "results_f = result_general[result_general['Duration']<3600]"
   ]
  },
  {
   "cell_type": "code",
   "execution_count": null,
   "metadata": {
    "colab": {
     "base_uri": "https://localhost:8080/",
     "height": 805
    },
    "id": "9y66xrDqpfXW",
    "outputId": "84fd0ed9-fd77-45f3-ef5e-f4cd86e1f45a"
   },
   "outputs": [],
   "source": [
    "results_f"
   ]
  },
  {
   "cell_type": "code",
   "execution_count": null,
   "metadata": {
    "colab": {
     "base_uri": "https://localhost:8080/"
    },
    "id": "4ngIbHiPF2sQ",
    "outputId": "3c5e1627-83c2-4ab4-9cad-2c577bea48f9"
   },
   "outputs": [],
   "source": [
    "len(result_general)"
   ]
  },
  {
   "cell_type": "code",
   "execution_count": null,
   "metadata": {
    "colab": {
     "base_uri": "https://localhost:8080/"
    },
    "id": "TPks7I9mF6f9",
    "outputId": "72158c9d-c1f6-4ddf-e64c-011f6add6f58"
   },
   "outputs": [],
   "source": [
    "len(results_f)"
   ]
  },
  {
   "cell_type": "code",
   "execution_count": null,
   "metadata": {
    "colab": {
     "base_uri": "https://localhost:8080/",
     "height": 611
    },
    "id": "oFznpFTjpfXW",
    "outputId": "445b9aba-e4fc-4001-ca7c-ed28700e759e"
   },
   "outputs": [],
   "source": [
    "result=results_f.dropna()\n",
    "new_result=result.set_index('Start date').groupby([pd.Grouper(freq='h'), 'StartStation Name', 'EndStation Name']).count()\n",
    "new_result"
   ]
  },
  {
   "cell_type": "code",
   "execution_count": null,
   "metadata": {
    "colab": {
     "base_uri": "https://localhost:8080/"
    },
    "id": "_FTnF0yxuJcm",
    "outputId": "63ab1b86-2f08-48a6-f3e6-5838742c568c"
   },
   "outputs": [],
   "source": [
    "new_result.columns"
   ]
  },
  {
   "cell_type": "code",
   "execution_count": null,
   "metadata": {
    "id": "IuFJUVbdua1l"
   },
   "outputs": [],
   "source": [
    "new_result['No of trips']=new_result['Duration']"
   ]
  },
  {
   "cell_type": "code",
   "execution_count": null,
   "metadata": {
    "colab": {
     "base_uri": "https://localhost:8080/",
     "height": 663
    },
    "id": "HXP1TEZ-usLS",
    "outputId": "9d6d7d51-867f-4984-f185-31d9502a554a"
   },
   "outputs": [],
   "source": [
    "new_result"
   ]
  },
  {
   "cell_type": "code",
   "execution_count": null,
   "metadata": {
    "id": "SGYSsko_udO_"
   },
   "outputs": [],
   "source": [
    "new_result = new_result[['No of trips']]"
   ]
  },
  {
   "cell_type": "code",
   "execution_count": null,
   "metadata": {
    "colab": {
     "base_uri": "https://localhost:8080/",
     "height": 455
    },
    "id": "ikL36P0LvAlP",
    "outputId": "366f1ea4-9941-4ca7-ebd1-92bbb17362c6"
   },
   "outputs": [],
   "source": [
    "new_result"
   ]
  },
  {
   "cell_type": "code",
   "execution_count": null,
   "metadata": {
    "colab": {
     "base_uri": "https://localhost:8080/",
     "height": 423
    },
    "id": "afrgx57ApfXX",
    "outputId": "410057bd-2388-4c38-eb39-6b5d915dbb71"
   },
   "outputs": [],
   "source": [
    "df = new_result.reset_index()\n",
    "df = df.sort_values(by=['Start date'])\n",
    "df = new_result.reset_index()\n",
    "df"
   ]
  },
  {
   "cell_type": "code",
   "execution_count": null,
   "metadata": {
    "colab": {
     "base_uri": "https://localhost:8080/"
    },
    "id": "Y3CyaZ70pfXX",
    "outputId": "99984cbd-8e3c-4929-a071-c40dcc42ce9b"
   },
   "outputs": [],
   "source": [
    "total_stations = pd.concat([df['StartStation Name'],df['EndStation Name']])\n",
    "total_uniq_stations = np.unique(total_stations).tolist()\n",
    "len(total_uniq_stations)"
   ]
  },
  {
   "cell_type": "code",
   "execution_count": null,
   "metadata": {
    "colab": {
     "base_uri": "https://localhost:8080/"
    },
    "id": "gqhFwu2WpfXX",
    "outputId": "f6fc7654-f102-4e61-82c5-deaed392c5ef"
   },
   "outputs": [],
   "source": [
    "total_hours = np.unique(df['Start date']).tolist()\n",
    "len(total_hours)"
   ]
  },
  {
   "cell_type": "code",
   "execution_count": null,
   "metadata": {
    "id": "F5gG97VupfXY"
   },
   "outputs": [],
   "source": [
    "i = len(total_uniq_stations)\n",
    "k = len(total_hours)\n",
    "trips_3darray = np.zeros((i,i,k))"
   ]
  },
  {
   "cell_type": "code",
   "execution_count": null,
   "metadata": {
    "id": "WLQaf49HpfXY"
   },
   "outputs": [],
   "source": [
    "timeframe_pos = 0\n",
    "for trip in df.index:\n",
    "    so = total_uniq_stations.index(df['StartStation Name'][trip])\n",
    "    sd = total_uniq_stations.index(df['EndStation Name'][trip])\n",
    "    trips_3darray[so][sd][timeframe_pos] += 1\n",
    "    if trip < df.index.stop-1:\n",
    "        if df['Start date'][trip] != df['Start date'][trip+1]:\n",
    "            timeframe_pos += 1"
   ]
  },
  {
   "cell_type": "code",
   "execution_count": null,
   "metadata": {
    "colab": {
     "base_uri": "https://localhost:8080/"
    },
    "id": "wpttUyrPpfXY",
    "outputId": "86511ff6-dc72-471c-cae8-b89f263cdc33"
   },
   "outputs": [],
   "source": [
    "trips_3darray"
   ]
  },
  {
   "cell_type": "code",
   "execution_count": null,
   "metadata": {
    "colab": {
     "base_uri": "https://localhost:8080/"
    },
    "id": "Wpg5o4V8pfXY",
    "outputId": "5965cd14-d833-4786-e686-df936f898e8a"
   },
   "outputs": [],
   "source": [
    "trips_3darray[:,:,1].sum()"
   ]
  },
  {
   "cell_type": "code",
   "execution_count": null,
   "metadata": {
    "colab": {
     "base_uri": "https://localhost:8080/"
    },
    "id": "z6qLeNLiGjr5",
    "outputId": "3d9a40d1-7558-41d9-cdff-2d08174f4dd3"
   },
   "outputs": [],
   "source": [
    "trips_3darray.shape"
   ]
  },
  {
   "cell_type": "code",
   "execution_count": null,
   "metadata": {
    "colab": {
     "base_uri": "https://localhost:8080/"
    },
    "id": "_Z2BetSepfXY",
    "outputId": "bf80fe90-9301-4147-b108-8862c082f43c"
   },
   "outputs": [],
   "source": [
    "all_trips=trips_3darray[:,:,0]\n",
    "all_trips"
   ]
  },
  {
   "cell_type": "code",
   "execution_count": null,
   "metadata": {
    "colab": {
     "base_uri": "https://localhost:8080/",
     "height": 422
    },
    "id": "86y_95DRpfXY",
    "outputId": "1d1e76b8-6fe7-447b-cc63-eeafab9e6fc9"
   },
   "outputs": [],
   "source": [
    "plt.matshow(all_trips)\n",
    "plt.colorbar()\n",
    "plt.show()"
   ]
  },
  {
   "cell_type": "markdown",
   "metadata": {
    "id": "pLJo4oK0pfXZ"
   },
   "source": [
    "## Tensor Decomposition"
   ]
  },
  {
   "cell_type": "code",
   "execution_count": null,
   "metadata": {
    "colab": {
     "base_uri": "https://localhost:8080/"
    },
    "id": "fJwPohyArj39",
    "outputId": "5fef0a0c-e0ca-4dc2-9077-1adf902189ba"
   },
   "outputs": [],
   "source": [
    "!pip install tensorly"
   ]
  },
  {
   "cell_type": "code",
   "execution_count": null,
   "metadata": {
    "id": "rtlKnLZ2pfXZ"
   },
   "outputs": [],
   "source": [
    "import tensorly as tl\n",
    "from tensorly.decomposition import tucker"
   ]
  },
  {
   "cell_type": "code",
   "execution_count": null,
   "metadata": {
    "id": "Zt8_2okupfXZ"
   },
   "outputs": [],
   "source": [
    "#Represent the trips as a tensor\n",
    "tensor_trip = tl.tensor(trips_3darray, dtype='float64')"
   ]
  },
  {
   "cell_type": "code",
   "execution_count": null,
   "metadata": {
    "colab": {
     "base_uri": "https://localhost:8080/"
    },
    "id": "ioVySftgpfXa",
    "outputId": "94e6f259-c59d-47f1-9c8d-1ed469b296ef"
   },
   "outputs": [],
   "source": [
    "tensor_trip.shape"
   ]
  },
  {
   "cell_type": "code",
   "execution_count": null,
   "metadata": {
    "id": "aCSySMUEpfXa"
   },
   "outputs": [],
   "source": [
    "# Rank of Tucker decomposition\n",
    "tucker_rank = [100, 100, 150]"
   ]
  },
  {
   "cell_type": "code",
   "execution_count": null,
   "metadata": {
    "id": "mvZZzr9dpfXa"
   },
   "outputs": [],
   "source": [
    "core, factors = tucker(tensor_trip, rank=tucker_rank, init='random', tol=10e-5,random_state=12345)"
   ]
  },
  {
   "cell_type": "code",
   "execution_count": null,
   "metadata": {
    "id": "66eTBSDZ2zzw"
   },
   "outputs": [],
   "source": [
    "#Convert the tucker tensor into a full tensor\n",
    "tucker_rec = tl.tucker_to_tensor((core, factors))"
   ]
  },
  {
   "cell_type": "code",
   "execution_count": null,
   "metadata": {
    "colab": {
     "base_uri": "https://localhost:8080/"
    },
    "id": "l_au-OTHvwZQ",
    "outputId": "327936a8-9634-4221-c0ec-9160595403c0"
   },
   "outputs": [],
   "source": [
    "factors[0].shape"
   ]
  },
  {
   "cell_type": "code",
   "execution_count": null,
   "metadata": {
    "colab": {
     "base_uri": "https://localhost:8080/"
    },
    "id": "YmONxKMowyu-",
    "outputId": "a5acb797-689b-4fbf-968d-797e369f946c"
   },
   "outputs": [],
   "source": [
    "factors[1].shape"
   ]
  },
  {
   "cell_type": "code",
   "execution_count": null,
   "metadata": {
    "colab": {
     "base_uri": "https://localhost:8080/"
    },
    "id": "HcPBciL1w0PR",
    "outputId": "19dae2f4-b8e9-40fd-dca5-455eaf20b21b"
   },
   "outputs": [],
   "source": [
    "factors[2].shape"
   ]
  },
  {
   "cell_type": "code",
   "execution_count": null,
   "metadata": {
    "id": "2qwZnFbDJxLt"
   },
   "outputs": [],
   "source": [
    "import requests"
   ]
  },
  {
   "cell_type": "code",
   "execution_count": null,
   "metadata": {
    "id": "QcQGY-roK9eJ"
   },
   "outputs": [],
   "source": [
    "response= requests.get('https://api.tfl.gov.uk/BikePoint/')\n",
    "stations = response.json()"
   ]
  },
  {
   "cell_type": "code",
   "execution_count": null,
   "metadata": {
    "id": "YfbkxBD8K_xv"
   },
   "outputs": [],
   "source": [
    "data =  pd.DataFrame()\n",
    "s_names = []\n",
    "s_lat = []\n",
    "s_lon = []\n",
    "\n",
    "NbBikes = []\n",
    "NbEmptyDocks = []\n",
    "NbDocks = []\n",
    "NbStandardBikes = []\n",
    "NbEBikes = []\n",
    "s_id = []"
   ]
  },
  {
   "cell_type": "code",
   "execution_count": null,
   "metadata": {
    "id": "z20KZGdoLANJ"
   },
   "outputs": [],
   "source": [
    "len_lat = 0\n",
    "for station in stations:\n",
    "    s_names.append(station['commonName'])\n",
    "    s_lat.append(float(station['lat']))\n",
    "    s_lon.append(float(station['lon']))\n",
    "    for add_property in station['additionalProperties']:\n",
    "        if add_property['key'] == 'NbBikes':\n",
    "            NbBikes.append(int(add_property['value']))\n",
    "        if add_property['key'] == 'NbEmptyDocks':\n",
    "            NbEmptyDocks.append(int(add_property['value']))\n",
    "        if add_property['key'] == 'NbDocks':\n",
    "            NbDocks.append(int(add_property['value']))\n",
    "        if add_property['key'] == 'NbStandardBikes':\n",
    "            NbStandardBikes.append(int(add_property['value']))\n",
    "        if add_property['key'] == 'NbEBikes':\n",
    "            NbEBikes.append(int(add_property['value']))\n",
    "        if add_property['key'] == 'TerminalName':\n",
    "            s_id.append(int(add_property['value']))\n"
   ]
  },
  {
   "cell_type": "code",
   "execution_count": null,
   "metadata": {
    "id": "ZjAp3HbJLELH"
   },
   "outputs": [],
   "source": [
    "data['Station_name'] = s_names\n",
    "data['s_lat'] = s_lat\n",
    "data['s_lon'] = s_lon\n",
    "data['s_num_bikes'] = NbBikes\n",
    "data['s_num_empty_docks'] = NbEmptyDocks\n",
    "data['s_num_std_bikes'] = NbStandardBikes\n",
    "data['s_num_e-bikes'] = NbEBikes\n",
    "data['s_num_docks'] = data['s_num_bikes'] + data['s_num_empty_docks']\n",
    "data['s_id'] = s_id"
   ]
  },
  {
   "cell_type": "code",
   "execution_count": null,
   "metadata": {
    "colab": {
     "base_uri": "https://localhost:8080/",
     "height": 510
    },
    "id": "h6yRBKMdLEh2",
    "outputId": "3fec79a2-38f6-47d2-97b6-37f9fcb41735"
   },
   "outputs": [],
   "source": [
    "data"
   ]
  },
  {
   "cell_type": "code",
   "execution_count": null,
   "metadata": {
    "id": "VSpn1FqyLEtr"
   },
   "outputs": [],
   "source": [
    "# South East limits\n",
    "se_limit_lat = 51.523811 # everthing lower than this value is south east\n",
    "se_limit_lon = -0.101342 # everything greater than this value is south east\n",
    "\n",
    "# East limits\n",
    "e_limit_lat = 51.523811 # everything greater than this value is east\n",
    "e_limit_lon = -0.022306 # everything greater than this is east\n",
    "\n",
    "# South West limits\n",
    "sw_limit_lat = 51.501631 # everthing lower than this value is south east\n",
    "sw_limit_lon = -0.101342 # everything lower than this value is south east\n",
    "\n",
    "# West limits\n",
    "w_limit_lat = 51.501072  # everthing greater than this value is south east\n",
    "w_limit_lon = -0.182406  # everthing lower than this value is south east\n",
    "\n",
    "# Central limits\n",
    "c_toplimit_lat = 51.501072 # everthing greater than this value is central\n",
    "c_lowlimit_lat = 51.523811 # everything lower than this value is central\n",
    "\n",
    "c_toplimit_lon = -0.101342 # everything lower than this value is central\n",
    "c_lowlimit_lon = -0.182406 # everthing greater than this value is central\n",
    "\n",
    "# North limits\n",
    "n_toplimit_lon = -0.022306 # everything lower than this value is central\n",
    "n_lowlimit_lon = -0.182406 # everthing greater than this value is central\n",
    "\n",
    "n_lowlimit_lat = 51.523811 # everthing greater than this value is central"
   ]
  },
  {
   "cell_type": "code",
   "execution_count": null,
   "metadata": {
    "id": "UnqOovyVLE0Y"
   },
   "outputs": [],
   "source": [
    "loc = []"
   ]
  },
  {
   "cell_type": "code",
   "execution_count": null,
   "metadata": {
    "id": "57eU0PwtLE5r"
   },
   "outputs": [],
   "source": [
    "for station in data.index:\n",
    "    if data['s_lat'][station] > c_toplimit_lat and data['s_lat'][station]< c_lowlimit_lat and data['s_lon'][station]< c_toplimit_lon and data['s_lon'][station]>c_lowlimit_lon:\n",
    "        loc.append(1) # Central\n",
    "    elif data['s_lon'][station] < n_toplimit_lon and data['s_lon'][station] > n_lowlimit_lon and data['s_lat'][station] > n_lowlimit_lat:\n",
    "        loc.append(2) # North\n",
    "    elif data['s_lon'][station] < w_limit_lon and data['s_lat'][station] > w_limit_lat:\n",
    "        loc.append(3) # West\n",
    "    elif data['s_lon'][station] < sw_limit_lon and data['s_lat'][station] < sw_limit_lat:\n",
    "        loc.append(4)  # South_West\n",
    "    elif data['s_lon'][station] > e_limit_lon and data['s_lat'][station] > e_limit_lat:\n",
    "        loc.append(5) # East\n",
    "    elif data['s_lon'][station] > se_limit_lon and data['s_lat'][station] < se_limit_lat:\n",
    "        loc.append(6) # South East\n",
    "    else:\n",
    "        loc.append('Other')"
   ]
  },
  {
   "cell_type": "code",
   "execution_count": null,
   "metadata": {
    "id": "EkTmca63LE-L"
   },
   "outputs": [],
   "source": [
    "data['Area_loc'] = loc"
   ]
  },
  {
   "cell_type": "code",
   "execution_count": null,
   "metadata": {
    "colab": {
     "base_uri": "https://localhost:8080/",
     "height": 614
    },
    "id": "VAsSkRLioeMQ",
    "outputId": "709cc2c9-157b-4c2e-910b-9e4082ed5f8c"
   },
   "outputs": [],
   "source": [
    "data"
   ]
  },
  {
   "cell_type": "code",
   "execution_count": null,
   "metadata": {
    "colab": {
     "base_uri": "https://localhost:8080/"
    },
    "id": "jZcdr85apjGl",
    "outputId": "200e0438-e2ce-4efe-cc95-eb4b99ec23fd"
   },
   "outputs": [],
   "source": [
    "data.loc[data.Station_name == 'Chepstow Villas, Notting Hill'].values[0][9]"
   ]
  },
  {
   "cell_type": "code",
   "execution_count": null,
   "metadata": {
    "id": "cA15POAitjYi"
   },
   "outputs": [],
   "source": [
    "color_stations = []\n",
    "for station in total_uniq_stations:\n",
    "  info_val = data.loc[data.Station_name == station].values\n",
    "  if len(info_val)>0:\n",
    "    color_stations.append(data.loc[data.Station_name == station].values[0][9])\n",
    "  else:\n",
    "    color_stations.append(7)"
   ]
  },
  {
   "cell_type": "code",
   "execution_count": null,
   "metadata": {
    "colab": {
     "base_uri": "https://localhost:8080/"
    },
    "id": "6Mo1sKJh0v13",
    "outputId": "b308b407-4a7b-47a3-8938-7c1ce64b1437"
   },
   "outputs": [],
   "source": [
    "len(color_stations)"
   ]
  },
  {
   "cell_type": "code",
   "execution_count": null,
   "metadata": {
    "colab": {
     "base_uri": "https://localhost:8080/",
     "height": 662
    },
    "id": "peod0ei91lIO",
    "outputId": "3f2ecf71-50b5-4aab-f42a-491c9e91b798"
   },
   "outputs": [],
   "source": [
    "fig, axs = plt.subplots(5, 3)\n",
    "fig.set_size_inches(18.5, 10.5)\n",
    "axs[0, 0].scatter(x=range(len(factors[0])), y=np.transpose(factors[0])[0], c=color_stations)\n",
    "axs[0, 1].scatter(x=range(len(factors[1])), y=np.transpose(factors[1])[0], c=color_stations)\n",
    "axs[0, 2].plot(np.transpose(factors[2])[0])\n",
    "\n",
    "axs[1, 0].scatter(x=range(len(factors[0])), y=np.transpose(factors[0])[1], c=color_stations)\n",
    "axs[1, 1].scatter(x=range(len(factors[1])), y=np.transpose(factors[1])[1], c=color_stations)\n",
    "axs[1, 2].plot(np.transpose(factors[2])[1])\n",
    "\n",
    "axs[2, 0].scatter(x=range(len(factors[0])), y=np.transpose(factors[0])[2], c=color_stations)\n",
    "axs[2, 1].scatter(x=range(len(factors[1])), y=np.transpose(factors[1])[2], c=color_stations)\n",
    "axs[2, 2].plot(np.transpose(factors[2])[2])\n",
    "\n",
    "axs[3, 0].scatter(x=range(len(factors[0])), y=np.transpose(factors[0])[3], c=color_stations)\n",
    "axs[3, 1].scatter(x=range(len(factors[1])), y=np.transpose(factors[1])[3], c=color_stations)\n",
    "axs[3, 2].plot(np.transpose(factors[2])[3])\n",
    "\n",
    "axs[4, 0].scatter(x=range(len(factors[0])), y=np.transpose(factors[0])[4], c=color_stations)\n",
    "axs[4, 1].scatter(x=range(len(factors[1])), y=np.transpose(factors[1])[4], c=color_stations)\n",
    "axs[4, 2].plot(np.transpose(factors[2])[4])"
   ]
  },
  {
   "cell_type": "code",
   "execution_count": null,
   "metadata": {
    "colab": {
     "base_uri": "https://localhost:8080/"
    },
    "id": "e3lorkE9vXDW",
    "outputId": "8f32c0a4-19de-467d-e7d8-3f0f25c35630"
   },
   "outputs": [],
   "source": [
    "factors[2].shape"
   ]
  },
  {
   "cell_type": "code",
   "execution_count": null,
   "metadata": {
    "colab": {
     "base_uri": "https://localhost:8080/"
    },
    "id": "9prrd64vXnYB",
    "outputId": "f46b2b71-d594-4219-8279-ebcf1d43ff13"
   },
   "outputs": [],
   "source": [
    "type(factors[2])"
   ]
  },
  {
   "cell_type": "code",
   "execution_count": null,
   "metadata": {
    "id": "vrhyP1WEYyLd"
   },
   "outputs": [],
   "source": [
    "from google.colab import files"
   ]
  },
  {
   "cell_type": "code",
   "execution_count": null,
   "metadata": {
    "id": "7eeIEG7SX_5B"
   },
   "outputs": [],
   "source": [
    "# convert array into dataframe\n",
    "result_df = pd.DataFrame(factors[2])"
   ]
  },
  {
   "cell_type": "code",
   "execution_count": null,
   "metadata": {
    "id": "V1BK-9tPZJt1"
   },
   "outputs": [],
   "source": [
    "result_df['timestamp'] = pd.to_datetime(total_hours)"
   ]
  },
  {
   "cell_type": "code",
   "execution_count": null,
   "metadata": {
    "colab": {
     "base_uri": "https://localhost:8080/",
     "height": 34
    },
    "id": "7ZwVi0KMYJ7h",
    "outputId": "6c17d406-0319-41ea-d899-cd09e4a2ef7b"
   },
   "outputs": [],
   "source": [
    "result_df.to_csv('filename.csv')\n",
    "files.download('filename.csv')"
   ]
  },
  {
   "cell_type": "code",
   "execution_count": null,
   "metadata": {
    "id": "cISDzBSJYMXT"
   },
   "outputs": [],
   "source": []
  }
 ],
 "metadata": {
  "accelerator": "GPU",
  "colab": {
   "gpuType": "T4",
   "provenance": []
  },
  "kernelspec": {
   "display_name": "Python 3 (ipykernel)",
   "language": "python",
   "name": "python3"
  },
  "language_info": {
   "codemirror_mode": {
    "name": "ipython",
    "version": 3
   },
   "file_extension": ".py",
   "mimetype": "text/x-python",
   "name": "python",
   "nbconvert_exporter": "python",
   "pygments_lexer": "ipython3",
   "version": "3.10.6"
  }
 },
 "nbformat": 4,
 "nbformat_minor": 4
}
